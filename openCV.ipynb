{
 "cells": [
  {
   "cell_type": "code",
   "execution_count": 12,
   "metadata": {},
   "outputs": [],
   "source": [
    "import cv2\n",
    "import numpy as np"
   ]
  },
  {
   "cell_type": "code",
   "execution_count": 13,
   "metadata": {},
   "outputs": [],
   "source": [
    "v1 = cv2.VideoCapture('https://void.greenhosting.ru/Multimania_Mpeg4/index.m3u8')\n",
    "v2 = cv2.VideoCapture('https://magicstream.ddns.net/magicstream/stream.m3u8')"
   ]
  },
  {
   "cell_type": "code",
   "execution_count": 14,
   "metadata": {},
   "outputs": [],
   "source": [
    "frame_width = int(v1.get(cv2.CAP_PROP_FRAME_WIDTH))\n",
    "frame_height = int(v1.get(cv2.CAP_PROP_FRAME_HEIGHT))\n",
    "frame_rate = int(v1.get(cv2.CAP_PROP_FPS))"
   ]
  },
  {
   "cell_type": "code",
   "execution_count": 15,
   "metadata": {},
   "outputs": [],
   "source": [
    "# video write object\n",
    "f = cv2.VideoWriter_fourcc(*'mp4v')\n",
    "out = cv2.VideoWriter('output.mp4',f,frame_rate,(frame_width*2,frame_height))"
   ]
  },
  {
   "cell_type": "code",
   "execution_count": 16,
   "metadata": {},
   "outputs": [
    {
     "ename": "KeyboardInterrupt",
     "evalue": "",
     "output_type": "error",
     "traceback": [
      "\u001b[1;31m---------------------------------------------------------------------------\u001b[0m",
      "\u001b[1;31mKeyboardInterrupt\u001b[0m                         Traceback (most recent call last)",
      "Cell \u001b[1;32mIn[16], line 7\u001b[0m\n\u001b[0;32m      4\u001b[0m ret1,frame1 \u001b[38;5;241m=\u001b[39m v1\u001b[38;5;241m.\u001b[39mread()\n\u001b[0;32m      6\u001b[0m \u001b[38;5;66;03m# read the frame from first video\u001b[39;00m\n\u001b[1;32m----> 7\u001b[0m ret2,frame2 \u001b[38;5;241m=\u001b[39m \u001b[43mv2\u001b[49m\u001b[38;5;241;43m.\u001b[39;49m\u001b[43mread\u001b[49m\u001b[43m(\u001b[49m\u001b[43m)\u001b[49m\n",
      "\u001b[1;31mKeyboardInterrupt\u001b[0m: "
     ]
    }
   ],
   "source": [
    "# loop through the frames of both videos and write them to the output video\n",
    "while True:\n",
    "    # read the frame from first video\n",
    "    ret1,frame1 = v1.read()\n",
    "\n",
    "    # read the frame from first video\n",
    "    ret2,frame2 = v2.read()\n"
   ]
  },
  {
   "cell_type": "code",
   "execution_count": null,
   "metadata": {},
   "outputs": [],
   "source": [
    "# stop the loop if either one video reaches it end\n",
    "if not ret1 or not ret2:\n",
    "  break\n"
   ]
  },
  {
   "cell_type": "code",
   "execution_count": null,
   "metadata": {},
   "outputs": [],
   "source": [
    "# resize the second video to match the size of first video\n",
    "frame2 = cv2.resize(frame2,(frame_width,frame_height))\n",
    "\n",
    "# create a black canvas to place the merged frame on\n",
    "canvas = np.zeros((frame_height,frame_width*2,3),dtype= np.uint8)\n",
    "\n",
    "#place the first frame on left side of canvas\n",
    "canvas[:, :frame_width] = frame1\n",
    "\n",
    "#place the second frame on right side of canvas\n",
    "canvas[:, frame_width:] = frame2\n",
    "\n",
    "#write the merged frame to output video\n",
    "out.write(canvas)\n",
    "\n",
    "#release the input out put video objects\n",
    "v1.release()\n",
    "v2.release()\n",
    "out.release()"
   ]
  }
 ],
 "metadata": {
  "kernelspec": {
   "display_name": "Python 3",
   "language": "python",
   "name": "python3"
  },
  "language_info": {
   "codemirror_mode": {
    "name": "ipython",
    "version": 3
   },
   "file_extension": ".py",
   "mimetype": "text/x-python",
   "name": "python",
   "nbconvert_exporter": "python",
   "pygments_lexer": "ipython3",
   "version": "3.11.4"
  }
 },
 "nbformat": 4,
 "nbformat_minor": 2
}
